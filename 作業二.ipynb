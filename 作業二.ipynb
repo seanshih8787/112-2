{
 "cells": [
  {
   "cell_type": "code",
   "execution_count": 6,
   "id": "5612374a",
   "metadata": {},
   "outputs": [
    {
     "name": "stdout",
     "output_type": "stream",
     "text": [
      "JSON 檔案已生成。\n"
     ]
    }
   ],
   "source": [
    "import json\n",
    "\n",
    "# 歌手觀看數資料\n",
    "singer_views = {\n",
    "    \"Karol G\": 4_994_309_036,\n",
    "    \"Bad Bunny\": 4_094_447_966,\n",
    "    \"Blackpink\": 4_053_427_452,\n",
    "    \"BTS\": 3_180_657_188,\n",
    "    \"Shakira\": 3_166_745_583,\n",
    "    \"Taylor Swift\": 3_001_444_752,\n",
    "    \"The Weeknd\": 2_966_329_712,\n",
    "    \"Anuel AA\": 2_665_212_643,\n",
    "    \"Grupo Frontera\": 2_442_096_358,\n",
    "    \"Peso Pluma\": 2_367_118_540,\n",
    "    \"Feid\": 2_208_434_449,\n",
    "    \"Bizarrap\": 2_140_354_635,\n",
    "    \"Fuerza Regida\": 2_043_445_812,\n",
    "    \"Gusttavo Lima\": 2_037_169_438,\n",
    "    \"Henrique e Juliano\": 2_017_045_807,\n",
    "    \"Eminem\": 1_939_819_541,\n",
    "    \"Romeo Santos\": 1_803_864_937,\n",
    "    \"Ed Sheeran\": 1_766_526_525,\n",
    "    \"Myke Towers\": 1_667_054_377,\n",
    "    \"Sidhu Moose Wala\": 1_661_006_455,\n",
    "    \"Stray Kids\": 1_659_946_867,\n",
    "    \"Rauw Alejandro\": 1_652_564_457,\n",
    "    \"Marília Mendonça\": 1_651_478_392,\n",
    "    \"YoungBoy Never Broke Again\": 1_558_472_375,\n",
    "    \"Ozuna\": 1_540_133_226,\n",
    "}\n",
    "\n",
    "# 歌手所在地區資料\n",
    "singer_region = {\n",
    "    \"Karol G\": \"哥倫比亞\",\n",
    "    \"Bad Bunny\": \"波多黎各\",\n",
    "    \"Blackpink\": \"韓國\",\n",
    "    \"BTS\": \"韓國\",\n",
    "    \"Shakira\": \"哥倫比亞\",\n",
    "    \"Taylor Swift\": \"美國\",\n",
    "    \"The Weeknd\": \"加拿大\",\n",
    "    \"Anuel AA\": \"波多黎各\",\n",
    "    \"Grupo Frontera\": \"墨西哥\",\n",
    "    \"Peso Pluma\": \"墨西哥\",\n",
    "    \"Feid\": \"哥倫比亞\",\n",
    "    \"Bizarrap\": \"阿根廷\",\n",
    "    \"Fuerza Regida\": \"墨西哥\",\n",
    "    \"Gusttavo Lima\": \"巴西\",\n",
    "    \"Henrique e Juliano\": \"巴西\",\n",
    "    \"Eminem\": \"美國\",\n",
    "    \"Romeo Santos\": \"美國\",\n",
    "    \"Ed Sheeran\": \"英國\",\n",
    "    \"Myke Towers\": \"波多黎各\",\n",
    "    \"Sidhu Moose Wala\": \"印度\",\n",
    "    \"Stray Kids\": \"韓國\",\n",
    "    \"Rauw Alejandro\": \"波多黎各\",\n",
    "    \"Marília Mendonça\": \"巴西\",\n",
    "    \"YoungBoy Never Broke Again\": \"美國\",\n",
    "    \"Ozuna\": \"波多黎各\",\n",
    "}\n",
    "\n",
    "# 歌手專輯數量資料\n",
    "singer_albums = {\n",
    "    \"Karol G\": [\"2\"],\n",
    "    \"Bad Bunny\": [\"3\"],\n",
    "    \"Blackpink\": [\"3\"],\n",
    "    \"BTS\": [\"9\"],\n",
    "    \"Shakira\": [\"11\"],\n",
    "    \"Taylor Swift\": [\"11\"],\n",
    "    \"The Weeknd\": [\"10\"],\n",
    "    \"Anuel AA\": [\"3\"],\n",
    "    \"Grupo Frontera\": [\"7\"],\n",
    "    \"Peso Pluma\": [\"6\"],\n",
    "    \"Feid\": [\"3\"],\n",
    "    \"Bizarrap\": [\"3\"],\n",
    "    \"Fuerza Regida\": [\"6\"],\n",
    "    \"Gusttavo Lima\": [\"6\"],\n",
    "    \"Henrique e Juliano\": [\"5\"],\n",
    "    \"Eminem\": [\"11\"],\n",
    "    \"Romeo Santos\": [\"3\"],\n",
    "    \"Ed Sheeran\": [\"4\"],\n",
    "    \"Myke Towers\": [\"4\"],\n",
    "    \"Sidhu Moose Wala\": [\"2\"],\n",
    "    \"Stray Kids\": [\"5\"],\n",
    "    \"Rauw Alejandro\": [\"2\"],\n",
    "    \"Marília Mendonça\": [\"5\"],\n",
    "    \"YoungBoy Never Broke Again\": [\"4\"],\n",
    "    \"Ozuna\": [\"3\"],\n",
    "}\n",
    "\n",
    "# 合併資料到一個字典\n",
    "combined_data = {}\n",
    "for singer in singer_views:\n",
    "    combined_data[singer] = {\n",
    "        \"觀看數\": singer_views[singer],\n",
    "        \"所在地區\": singer_region[singer],\n",
    "        \"專輯數量\": singer_albums[singer][0]\n",
    "    }\n",
    "\n",
    "# 輸出到 JSON 檔案\n",
    "with open('singer_data.json', 'w', encoding='utf-8') as file:\n",
    "    json.dump(combined_data, file, ensure_ascii=False, indent=4)\n",
    "\n",
    "print(\"JSON 檔案已生成。\")\n"
   ]
  },
  {
   "cell_type": "code",
   "execution_count": 8,
   "id": "46979868",
   "metadata": {},
   "outputs": [
    {
     "name": "stdout",
     "output_type": "stream",
     "text": [
      "觀看數大於3億的歌手有：\n",
      "歌手：Karol G, 觀看數：4994309036\n",
      "歌手：Bad Bunny, 觀看數：4094447966\n",
      "歌手：Blackpink, 觀看數：4053427452\n",
      "歌手：BTS, 觀看數：3180657188\n",
      "歌手：Shakira, 觀看數：3166745583\n",
      "歌手：Taylor Swift, 觀看數：3001444752\n"
     ]
    }
   ],
   "source": [
    "# 問題1：找出觀看數大於3億的歌手有哪些？\n",
    "top_singers = {singer: data for singer, data in combined_data.items() if data['觀看數'] > 3_000_000_000}\n",
    "\n",
    "# 輸出結果\n",
    "print(\"觀看數大於3億的歌手有：\")\n",
    "for singer, data in top_singers.items():\n",
    "    print(f\"歌手：{singer}, 觀看數：{data['觀看數']}\")"
   ]
  },
  {
   "cell_type": "code",
   "execution_count": 9,
   "id": "2d5c98dd",
   "metadata": {},
   "outputs": [
    {
     "name": "stdout",
     "output_type": "stream",
     "text": [
      "來自韓國的歌手有：\n",
      "Blackpink\n",
      "BTS\n",
      "Stray Kids\n"
     ]
    }
   ],
   "source": [
    "# 問題2：來自韓國的歌手有哪些？\n",
    "korean_singers = {singer: data for singer, data in combined_data.items() if data['所在地區'] == '韓國'}\n",
    "\n",
    "# 輸出結果\n",
    "print(\"來自韓國的歌手有：\")\n",
    "for singer in korean_singers:\n",
    "    print(singer)\n"
   ]
  },
  {
   "cell_type": "code",
   "execution_count": 10,
   "id": "ed91ac57",
   "metadata": {},
   "outputs": [
    {
     "name": "stdout",
     "output_type": "stream",
     "text": [
      "專輯超過5張的歌手有：\n",
      "BTS\n",
      "Shakira\n",
      "Taylor Swift\n",
      "The Weeknd\n",
      "Grupo Frontera\n",
      "Peso Pluma\n",
      "Fuerza Regida\n",
      "Gusttavo Lima\n",
      "Eminem\n"
     ]
    }
   ],
   "source": [
    "# 問題3：哪些歌手專輯超過5張？\n",
    "singers_over_5_albums = {singer: data for singer, data in combined_data.items() if int(data['專輯數量']) > 5}\n",
    "\n",
    "# 輸出結果\n",
    "print(\"專輯超過5張的歌手有：\")\n",
    "for singer in singers_over_5_albums:\n",
    "    print(singer)"
   ]
  },
  {
   "cell_type": "code",
   "execution_count": null,
   "id": "ca9f5607",
   "metadata": {},
   "outputs": [],
   "source": []
  }
 ],
 "metadata": {
  "kernelspec": {
   "display_name": "Python 3 (ipykernel)",
   "language": "python",
   "name": "python3"
  },
  "language_info": {
   "codemirror_mode": {
    "name": "ipython",
    "version": 3
   },
   "file_extension": ".py",
   "mimetype": "text/x-python",
   "name": "python",
   "nbconvert_exporter": "python",
   "pygments_lexer": "ipython3",
   "version": "3.11.5"
  }
 },
 "nbformat": 4,
 "nbformat_minor": 5
}
