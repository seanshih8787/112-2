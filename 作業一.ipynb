{
 "cells": [
  {
   "cell_type": "code",
   "execution_count": 3,
   "id": "f77b5c0e",
   "metadata": {},
   "outputs": [],
   "source": [
    "import pandas as pd"
   ]
  },
  {
   "cell_type": "code",
   "execution_count": 6,
   "id": "37097160",
   "metadata": {},
   "outputs": [],
   "source": [
    "# 讀取 CSV 檔案並轉換為 DataFrame\n",
    "df = pd.read_csv('spotify.csv')"
   ]
  },
  {
   "cell_type": "code",
   "execution_count": 7,
   "id": "d83de152",
   "metadata": {},
   "outputs": [],
   "source": [
    "# 將 DataFrame 轉換為 Set 資料型態\n",
    "top_2022 = set(df['2022'])\n",
    "top_2023 = set(df['2023'])"
   ]
  },
  {
   "cell_type": "code",
   "execution_count": 8,
   "id": "43946a05",
   "metadata": {},
   "outputs": [
    {
     "name": "stdout",
     "output_type": "stream",
     "text": [
      "聯集結果: {'Lana Del Rey', 'Ed Sheeran', 'Karol G', 'Kanye West', 'Bad Bunny', 'Eminem', 'Peso Pluma', 'Drake', 'The Weeknd', 'Harry Styles', 'BTS', 'SZA', 'Feid', 'Taylor Swift'}\n",
      "交集結果: {'Bad Bunny', 'Drake', 'Taylor Swift', 'The Weeknd'}\n",
      "差集結果: {'Ed Sheeran', 'Kanye West', 'Eminem', 'Harry Styles', 'BTS'}\n"
     ]
    }
   ],
   "source": [
    "# 聯集\n",
    "union = top_2022.union(top_2023)\n",
    "print(\"聯集結果:\", union)\n",
    "\n",
    "# 交集\n",
    "intersection = top_2022.intersection(top_2023)\n",
    "print(\"交集結果:\", intersection)\n",
    "\n",
    "# 差集\n",
    "difference = top_2022.difference(top_2023)\n",
    "print(\"差集結果:\", difference)"
   ]
  },
  {
   "cell_type": "code",
   "execution_count": null,
   "id": "7e5d480c",
   "metadata": {},
   "outputs": [],
   "source": []
  }
 ],
 "metadata": {
  "kernelspec": {
   "display_name": "Python 3 (ipykernel)",
   "language": "python",
   "name": "python3"
  },
  "language_info": {
   "codemirror_mode": {
    "name": "ipython",
    "version": 3
   },
   "file_extension": ".py",
   "mimetype": "text/x-python",
   "name": "python",
   "nbconvert_exporter": "python",
   "pygments_lexer": "ipython3",
   "version": "3.11.5"
  }
 },
 "nbformat": 4,
 "nbformat_minor": 5
}
