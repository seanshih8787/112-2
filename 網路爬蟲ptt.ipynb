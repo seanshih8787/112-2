{
 "cells": [
  {
   "cell_type": "code",
   "execution_count": 1,
   "id": "0103650e",
   "metadata": {},
   "outputs": [],
   "source": [
    "import requests\n",
    "from bs4 import BeautifulSoup\n",
    "import pandas as pd\n",
    "import json"
   ]
  },
  {
   "cell_type": "code",
   "execution_count": 2,
   "id": "61d35c4f",
   "metadata": {},
   "outputs": [],
   "source": [
    "url = \"https://www.ptt.cc/bbs/Baseball/index15803.html\""
   ]
  },
  {
   "cell_type": "code",
   "execution_count": 3,
   "id": "ff521c54",
   "metadata": {},
   "outputs": [
    {
     "name": "stdout",
     "output_type": "stream",
     "text": [
      "https://www.ptt.cc/bbs/Baseball/index15803.html\n"
     ]
    }
   ],
   "source": [
    "print(url)"
   ]
  },
  {
   "cell_type": "code",
   "execution_count": 4,
   "id": "fc4eea0a",
   "metadata": {},
   "outputs": [],
   "source": [
    "response=requests.get(url)"
   ]
  },
  {
   "cell_type": "code",
   "execution_count": 5,
   "id": "b8547720",
   "metadata": {},
   "outputs": [
    {
     "data": {
      "text/plain": [
       "'<!DOCTYPE html>\\n<html>\\n\\t<head>\\n\\t\\t<meta charset=\"utf-8\">\\n\\t\\t\\n\\n<meta name=\"viewport\" content=\"width=device-width, initial-scale=1\">\\n\\n<title>看板 Baseball 文章列表 - 批踢踢實業坊</title>\\n\\n<link rel=\"stylesheet\" type=\"text/css\" href=\"//images.ptt.cc/bbs/v2.27/bbs-common.css\">\\n<link rel=\"stylesheet\" type=\"text/css\" href=\"//images.ptt.cc/bbs/v2.27/bbs-base.css\" media=\"screen\">\\n<link rel=\"stylesheet\" type=\"text/css\" href=\"//images.ptt.cc/bbs/v2.27/bbs-custom.css\">\\n<link rel=\"stylesheet\" type=\"text/css\" href=\"//images.ptt.cc/bbs/v2.27/pushstream.css\" media=\"screen\">\\n<link rel=\"stylesheet\" type=\"text/css\" href=\"//images.ptt.cc/bbs/v2.27/bbs-print.css\" media=\"print\">\\n\\n\\n\\n\\n\\t</head>\\n    <body>\\n\\t\\t\\n<div id=\"topbar-container\">\\n\\t<div id=\"topbar\" class=\"bbs-content\">\\n\\t\\t<a id=\"logo\" href=\"/bbs/\">批踢踢實業坊</a>\\n\\t\\t<span>&rsaquo;</span>\\n\\t\\t<a class=\"board\" href=\"/bbs/Baseball/index.html\"><span class=\"board-label\">看板 </span>Baseball</a>\\n\\t\\t<a class=\"right small\" href=\"/about.html\">關於我們</a>\\n\\t\\t<a class=\"right small\" href=\"/contact.html\">聯絡資訊</a>\\n\\t</div>\\n</div>\\n\\n<div id=\"main-container\">\\n\\t<div id=\"action-bar-container\">\\n\\t\\t<div class=\"action-bar\">\\n\\t\\t\\t<div class=\"btn-group btn-group-dir\">\\n\\t\\t\\t\\t<a class=\"btn selected\" href=\"/bbs/Baseball/index.html\">看板</a>\\n\\t\\t\\t\\t<a class=\"btn\" href=\"/man/Baseball/index.html\">精華區</a>\\n\\t\\t\\t</div>\\n\\t\\t\\t<div class=\"btn-group btn-group-paging\">\\n\\t\\t\\t\\t<a class=\"btn wide\" href=\"/bbs/Baseball/index1.html\">最舊</a>\\n\\t\\t\\t\\t<a class=\"btn wide\" href=\"/bbs/Baseball/index15802.html\">&lsaquo; 上頁</a>\\n\\t\\t\\t\\t<a class=\"btn wide\" href=\"/bbs/Baseball/index15804.html\">下頁 &rsaquo;</a>\\n\\t\\t\\t\\t<a class=\"btn wide\" href=\"/bbs/Baseball/index.html\">最新</a>\\n\\t\\t\\t</div>\\n\\t\\t</div>\\n\\t</div>\\n\\n\\t<div class=\"r-list-container action-bar-margin bbs-screen\">\\n\\t\\t<div class=\"search-bar\">\\n\\t\\t\\t<form type=\"get\" action=\"search\" id=\"search-bar\">\\n\\t\\t\\t\\t<input class=\"query\" type=\"text\" name=\"q\" value=\"\" placeholder=\"搜尋文章&#x22ef;\">\\n\\t\\t\\t</form>\\n\\t\\t</div>\\n\\n\\t\\t\\n\\t\\t\\n            \\n        \\n        \\n\\t\\t<div class=\"r-ent\">\\n\\t\\t\\t<div class=\"nrec\"></div>\\n\\t\\t\\t<div class=\"title\">\\n\\t\\t\\t\\n\\t\\t\\t\\t<a href=\"/bbs/Baseball/M.1713334642.A.5E3.html\">[公告] Baseball 板 開始舉辦樂透!</a>\\n\\t\\t\\t\\n\\t\\t\\t</div>\\n\\t\\t\\t<div class=\"meta\">\\n\\t\\t\\t\\t<div class=\"author\">maimai2063</div>\\n\\t\\t\\t\\t<div class=\"article-menu\">\\n\\t\\t\\t\\t\\t\\n\\t\\t\\t\\t\\t<div class=\"trigger\">&#x22ef;</div>\\n\\t\\t\\t\\t\\t<div class=\"dropdown\">\\n\\t\\t\\t\\t\\t\\t<div class=\"item\"><a href=\"/bbs/Baseball/search?q=thread%3A%5B%E5%85%AC%E5%91%8A%5D&#43;Baseball&#43;%E6%9D%BF&#43;%E9%96%8B%E5%A7%8B%E8%88%89%E8%BE%A6%E6%A8%82%E9%80%8F%21\">搜尋同標題文章</a></div>\\n\\t\\t\\t\\t\\t\\t\\n\\t\\t\\t\\t\\t\\t<div class=\"item\"><a href=\"/bbs/Baseball/search?q=author%3Amaimai2063\">搜尋看板內 maimai2063 的文章</a></div>\\n\\t\\t\\t\\t\\t\\t\\n\\t\\t\\t\\t\\t</div>\\n\\t\\t\\t\\t\\t\\n\\t\\t\\t\\t</div>\\n\\t\\t\\t\\t<div class=\"date\"> 4/17</div>\\n\\t\\t\\t\\t<div class=\"mark\">M</div>\\n\\t\\t\\t</div>\\n\\t\\t</div>\\n\\n\\t\\t\\n            \\n        \\n        \\n\\t\\t<div class=\"r-ent\">\\n\\t\\t\\t<div class=\"nrec\"><span class=\"hl f2\">5</span></div>\\n\\t\\t\\t<div class=\"title\">\\n\\t\\t\\t\\n\\t\\t\\t\\t<a href=\"/bbs/Baseball/M.1713335331.A.AA9.html\">[分享] 「一同去蕉遊 x GOGO洲際」 下層進場贈品</a>\\n\\t\\t\\t\\n\\t\\t\\t</div>\\n\\t\\t\\t<div class=\"meta\">\\n\\t\\t\\t\\t<div class=\"author\">ruka660101</div>\\n\\t\\t\\t\\t<div class=\"article-menu\">\\n\\t\\t\\t\\t\\t\\n\\t\\t\\t\\t\\t<div class=\"trigger\">&#x22ef;</div>\\n\\t\\t\\t\\t\\t<div class=\"dropdown\">\\n\\t\\t\\t\\t\\t\\t<div class=\"item\"><a href=\"/bbs/Baseball/search?q=thread%3A%5B%E5%88%86%E4%BA%AB%5D&#43;%E3%80%8C%E4%B8%80%E5%90%8C%E5%8E%BB%E8%95%89%E9%81%8A&#43;x&#43;GOGO%E6%B4%B2%E9%9A%9B%E3%80%8D&#43;%E4%B8%8B%E5%B1%A4%E9%80%B2%E5%A0%B4%E8%B4%88%E5%93%81\">搜尋同標題文章</a></div>\\n\\t\\t\\t\\t\\t\\t\\n\\t\\t\\t\\t\\t\\t<div class=\"item\"><a href=\"/bbs/Baseball/search?q=author%3Aruka660101\">搜尋看板內 ruka660101 的文章</a></div>\\n\\t\\t\\t\\t\\t\\t\\n\\t\\t\\t\\t\\t</div>\\n\\t\\t\\t\\t\\t\\n\\t\\t\\t\\t</div>\\n\\t\\t\\t\\t<div class=\"date\"> 4/17</div>\\n\\t\\t\\t\\t<div class=\"mark\"></div>\\n\\t\\t\\t</div>\\n\\t\\t</div>\\n\\n\\t\\t\\n            \\n        \\n        \\n\\t\\t<div class=\"r-ent\">\\n\\t\\t\\t<div class=\"nrec\"><span class=\"hl f3\">40</span></div>\\n\\t\\t\\t<div class=\"title\">\\n\\t\\t\\t\\n\\t\\t\\t\\t<a href=\"/bbs/Baseball/M.1713335340.A.225.html\">[情報] 美日韓職 2024迄今整體均速</a>\\n\\t\\t\\t\\n\\t\\t\\t</div>\\n\\t\\t\\t<div class=\"meta\">\\n\\t\\t\\t\\t<div class=\"author\">zxc906383</div>\\n\\t\\t\\t\\t<div class=\"article-menu\">\\n\\t\\t\\t\\t\\t\\n\\t\\t\\t\\t\\t<div class=\"trigger\">&#x22ef;</div>\\n\\t\\t\\t\\t\\t<div class=\"dropdown\">\\n\\t\\t\\t\\t\\t\\t<div class=\"item\"><a href=\"/bbs/Baseball/search?q=thread%3A%5B%E6%83%85%E5%A0%B1%5D&#43;%E7%BE%8E%E6%97%A5%E9%9F%93%E8%81%B7&#43;2024%E8%BF%84%E4%BB%8A%E6%95%B4%E9%AB%94%E5%9D%87%E9%80%9F\">搜尋同標題文章</a></div>\\n\\t\\t\\t\\t\\t\\t\\n\\t\\t\\t\\t\\t\\t<div class=\"item\"><a href=\"/bbs/Baseball/search?q=author%3Azxc906383\">搜尋看板內 zxc906383 的文章</a></div>\\n\\t\\t\\t\\t\\t\\t\\n\\t\\t\\t\\t\\t</div>\\n\\t\\t\\t\\t\\t\\n\\t\\t\\t\\t</div>\\n\\t\\t\\t\\t<div class=\"date\"> 4/17</div>\\n\\t\\t\\t\\t<div class=\"mark\"></div>\\n\\t\\t\\t</div>\\n\\t\\t</div>\\n\\n\\t\\t\\n            \\n        \\n        \\n\\t\\t<div class=\"r-ent\">\\n\\t\\t\\t<div class=\"nrec\"><span class=\"hl f2\">9</span></div>\\n\\t\\t\\t<div class=\"title\">\\n\\t\\t\\t\\n\\t\\t\\t\\t<a href=\"/bbs/Baseball/M.1713335875.A.5F8.html\">Re: [問題] 要如何分辨出投手在投什麼球？</a>\\n\\t\\t\\t\\n\\t\\t\\t</div>\\n\\t\\t\\t<div class=\"meta\">\\n\\t\\t\\t\\t<div class=\"author\">backpacker18</div>\\n\\t\\t\\t\\t<div class=\"article-menu\">\\n\\t\\t\\t\\t\\t\\n\\t\\t\\t\\t\\t<div class=\"trigger\">&#x22ef;</div>\\n\\t\\t\\t\\t\\t<div class=\"dropdown\">\\n\\t\\t\\t\\t\\t\\t<div class=\"item\"><a href=\"/bbs/Baseball/search?q=thread%3A%5B%E5%95%8F%E9%A1%8C%5D&#43;%E8%A6%81%E5%A6%82%E4%BD%95%E5%88%86%E8%BE%A8%E5%87%BA%E6%8A%95%E6%89%8B%E5%9C%A8%E6%8A%95%E4%BB%80%E9%BA%BC%E7%90%83%EF%BC%9F\">搜尋同標題文章</a></div>\\n\\t\\t\\t\\t\\t\\t\\n\\t\\t\\t\\t\\t\\t<div class=\"item\"><a href=\"/bbs/Baseball/search?q=author%3Abackpacker18\">搜尋看板內 backpacker18 的文章</a></div>\\n\\t\\t\\t\\t\\t\\t\\n\\t\\t\\t\\t\\t</div>\\n\\t\\t\\t\\t\\t\\n\\t\\t\\t\\t</div>\\n\\t\\t\\t\\t<div class=\"date\"> 4/17</div>\\n\\t\\t\\t\\t<div class=\"mark\"></div>\\n\\t\\t\\t</div>\\n\\t\\t</div>\\n\\n\\t\\t\\n            \\n        \\n        \\n\\t\\t<div class=\"r-ent\">\\n\\t\\t\\t<div class=\"nrec\"><span class=\"hl f3\">14</span></div>\\n\\t\\t\\t<div class=\"title\">\\n\\t\\t\\t\\n\\t\\t\\t\\t<a href=\"/bbs/Baseball/M.1713336632.A.3C4.html\">[新聞] 中信兄弟》恩力在S-1同化性物質呈陽性反</a>\\n\\t\\t\\t\\n\\t\\t\\t</div>\\n\\t\\t\\t<div class=\"meta\">\\n\\t\\t\\t\\t<div class=\"author\">jackwelch</div>\\n\\t\\t\\t\\t<div class=\"article-menu\">\\n\\t\\t\\t\\t\\t\\n\\t\\t\\t\\t\\t<div class=\"trigger\">&#x22ef;</div>\\n\\t\\t\\t\\t\\t<div class=\"dropdown\">\\n\\t\\t\\t\\t\\t\\t<div class=\"item\"><a href=\"/bbs/Baseball/search?q=thread%3A%5B%E6%96%B0%E8%81%9E%5D&#43;%E4%B8%AD%E4%BF%A1%E5%85%84%E5%BC%9F%E3%80%8B%E6%81%A9%E5%8A%9B%E5%9C%A8S-1%E5%90%8C%E5%8C%96%E6%80%A7%E7%89%A9%E8%B3%AA%E5%91%88%E9%99%BD%E6%80%A7%E5%8F%8D\">搜尋同標題文章</a></div>\\n\\t\\t\\t\\t\\t\\t\\n\\t\\t\\t\\t\\t\\t<div class=\"item\"><a href=\"/bbs/Baseball/search?q=author%3Ajackwelch\">搜尋看板內 jackwelch 的文章</a></div>\\n\\t\\t\\t\\t\\t\\t\\n\\t\\t\\t\\t\\t</div>\\n\\t\\t\\t\\t\\t\\n\\t\\t\\t\\t</div>\\n\\t\\t\\t\\t<div class=\"date\"> 4/17</div>\\n\\t\\t\\t\\t<div class=\"mark\"></div>\\n\\t\\t\\t</div>\\n\\t\\t</div>\\n\\n\\t\\t\\n            \\n        \\n        \\n\\t\\t<div class=\"r-ent\">\\n\\t\\t\\t<div class=\"nrec\"><span class=\"hl f0\">XX</span></div>\\n\\t\\t\\t<div class=\"title\">\\n\\t\\t\\t\\n\\t\\t\\t\\t<a href=\"/bbs/Baseball/M.1713336809.A.490.html\">[新聞] 準經長郭智輝參與職棒跳票？崇越回應了</a>\\n\\t\\t\\t\\n\\t\\t\\t</div>\\n\\t\\t\\t<div class=\"meta\">\\n\\t\\t\\t\\t<div class=\"author\">william8403</div>\\n\\t\\t\\t\\t<div class=\"article-menu\">\\n\\t\\t\\t\\t\\t\\n\\t\\t\\t\\t\\t<div class=\"trigger\">&#x22ef;</div>\\n\\t\\t\\t\\t\\t<div class=\"dropdown\">\\n\\t\\t\\t\\t\\t\\t<div class=\"item\"><a href=\"/bbs/Baseball/search?q=thread%3A%5B%E6%96%B0%E8%81%9E%5D&#43;%E6%BA%96%E7%B6%93%E9%95%B7%E9%83%AD%E6%99%BA%E8%BC%9D%E5%8F%83%E8%88%87%E8%81%B7%E6%A3%92%E8%B7%B3%E7%A5%A8%EF%BC%9F%E5%B4%87%E8%B6%8A%E5%9B%9E%E6%87%89%E4%BA%86\">搜尋同標題文章</a></div>\\n\\t\\t\\t\\t\\t\\t\\n\\t\\t\\t\\t\\t\\t<div class=\"item\"><a href=\"/bbs/Baseball/search?q=author%3Awilliam8403\">搜尋看板內 william8403 的文章</a></div>\\n\\t\\t\\t\\t\\t\\t\\n\\t\\t\\t\\t\\t</div>\\n\\t\\t\\t\\t\\t\\n\\t\\t\\t\\t</div>\\n\\t\\t\\t\\t<div class=\"date\"> 4/17</div>\\n\\t\\t\\t\\t<div class=\"mark\"></div>\\n\\t\\t\\t</div>\\n\\t\\t</div>\\n\\n\\t\\t\\n            \\n        \\n        \\n\\t\\t<div class=\"r-ent\">\\n\\t\\t\\t<div class=\"nrec\"><span class=\"hl f3\">12</span></div>\\n\\t\\t\\t<div class=\"title\">\\n\\t\\t\\t\\n\\t\\t\\t\\t<a href=\"/bbs/Baseball/M.1713337705.A.199.html\">[新聞] SPC-MLB》大谷太急了！得點圈打擊率降至</a>\\n\\t\\t\\t\\n\\t\\t\\t</div>\\n\\t\\t\\t<div class=\"meta\">\\n\\t\\t\\t\\t<div class=\"author\">Lisanity</div>\\n\\t\\t\\t\\t<div class=\"article-menu\">\\n\\t\\t\\t\\t\\t\\n\\t\\t\\t\\t\\t<div class=\"trigger\">&#x22ef;</div>\\n\\t\\t\\t\\t\\t<div class=\"dropdown\">\\n\\t\\t\\t\\t\\t\\t<div class=\"item\"><a href=\"/bbs/Baseball/search?q=thread%3A%5B%E6%96%B0%E8%81%9E%5D&#43;SPC-MLB%E3%80%8B%E5%A4%A7%E8%B0%B7%E5%A4%AA%E6%80%A5%E4%BA%86%EF%BC%81%E5%BE%97%E9%BB%9E%E5%9C%88%E6%89%93%E6%93%8A%E7%8E%87%E9%99%8D%E8%87%B3\">搜尋同標題文章</a></div>\\n\\t\\t\\t\\t\\t\\t\\n\\t\\t\\t\\t\\t\\t<div class=\"item\"><a href=\"/bbs/Baseball/search?q=author%3ALisanity\">搜尋看板內 Lisanity 的文章</a></div>\\n\\t\\t\\t\\t\\t\\t\\n\\t\\t\\t\\t\\t</div>\\n\\t\\t\\t\\t\\t\\n\\t\\t\\t\\t</div>\\n\\t\\t\\t\\t<div class=\"date\"> 4/17</div>\\n\\t\\t\\t\\t<div class=\"mark\"></div>\\n\\t\\t\\t</div>\\n\\t\\t</div>\\n\\n\\t\\t\\n            \\n        \\n        \\n\\t\\t<div class=\"r-ent\">\\n\\t\\t\\t<div class=\"nrec\"><span class=\"hl f2\">3</span></div>\\n\\t\\t\\t<div class=\"title\">\\n\\t\\t\\t\\n\\t\\t\\t\\t<a href=\"/bbs/Baseball/M.1713337786.A.189.html\">[情報] NPB 4/17 球員異動</a>\\n\\t\\t\\t\\n\\t\\t\\t</div>\\n\\t\\t\\t<div class=\"meta\">\\n\\t\\t\\t\\t<div class=\"author\">YuiiAnitima</div>\\n\\t\\t\\t\\t<div class=\"article-menu\">\\n\\t\\t\\t\\t\\t\\n\\t\\t\\t\\t\\t<div class=\"trigger\">&#x22ef;</div>\\n\\t\\t\\t\\t\\t<div class=\"dropdown\">\\n\\t\\t\\t\\t\\t\\t<div class=\"item\"><a href=\"/bbs/Baseball/search?q=thread%3A%5B%E6%83%85%E5%A0%B1%5D&#43;NPB&#43;4%2F17&#43;%E7%90%83%E5%93%A1%E7%95%B0%E5%8B%95\">搜尋同標題文章</a></div>\\n\\t\\t\\t\\t\\t\\t\\n\\t\\t\\t\\t\\t\\t<div class=\"item\"><a href=\"/bbs/Baseball/search?q=author%3AYuiiAnitima\">搜尋看板內 YuiiAnitima 的文章</a></div>\\n\\t\\t\\t\\t\\t\\t\\n\\t\\t\\t\\t\\t</div>\\n\\t\\t\\t\\t\\t\\n\\t\\t\\t\\t</div>\\n\\t\\t\\t\\t<div class=\"date\"> 4/17</div>\\n\\t\\t\\t\\t<div class=\"mark\"></div>\\n\\t\\t\\t</div>\\n\\t\\t</div>\\n\\n\\t\\t\\n            \\n        \\n        \\n\\t\\t<div class=\"r-ent\">\\n\\t\\t\\t<div class=\"nrec\"><span class=\"hl f2\">5</span></div>\\n\\t\\t\\t<div class=\"title\">\\n\\t\\t\\t\\n\\t\\t\\t\\t<a href=\"/bbs/Baseball/M.1713338189.A.C15.html\">[新聞] MLB》遭菊池雄星痛宰！ 洋基「法官」開季</a>\\n\\t\\t\\t\\n\\t\\t\\t</div>\\n\\t\\t\\t<div class=\"meta\">\\n\\t\\t\\t\\t<div class=\"author\">ccf52881</div>\\n\\t\\t\\t\\t<div class=\"article-menu\">\\n\\t\\t\\t\\t\\t\\n\\t\\t\\t\\t\\t<div class=\"trigger\">&#x22ef;</div>\\n\\t\\t\\t\\t\\t<div class=\"dropdown\">\\n\\t\\t\\t\\t\\t\\t<div class=\"item\"><a href=\"/bbs/Baseball/search?q=thread%3A%5B%E6%96%B0%E8%81%9E%5D&#43;MLB%E3%80%8B%E9%81%AD%E8%8F%8A%E6%B1%A0%E9%9B%84%E6%98%9F%E7%97%9B%E5%AE%B0%EF%BC%81&#43;%E6%B4%8B%E5%9F%BA%E3%80%8C%E6%B3%95%E5%AE%98%E3%80%8D%E9%96%8B%E5%AD%A3\">搜尋同標題文章</a></div>\\n\\t\\t\\t\\t\\t\\t\\n\\t\\t\\t\\t\\t\\t<div class=\"item\"><a href=\"/bbs/Baseball/search?q=author%3Accf52881\">搜尋看板內 ccf52881 的文章</a></div>\\n\\t\\t\\t\\t\\t\\t\\n\\t\\t\\t\\t\\t</div>\\n\\t\\t\\t\\t\\t\\n\\t\\t\\t\\t</div>\\n\\t\\t\\t\\t<div class=\"date\"> 4/17</div>\\n\\t\\t\\t\\t<div class=\"mark\"></div>\\n\\t\\t\\t</div>\\n\\t\\t</div>\\n\\n\\t\\t\\n            \\n        \\n        \\n\\t\\t<div class=\"r-ent\">\\n\\t\\t\\t<div class=\"nrec\"><span class=\"hl f2\">4</span></div>\\n\\t\\t\\t<div class=\"title\">\\n\\t\\t\\t\\n\\t\\t\\t\\t<a href=\"/bbs/Baseball/M.1713338307.A.099.html\">[分享] 今日Dylan Cease </a>\\n\\t\\t\\t\\n\\t\\t\\t</div>\\n\\t\\t\\t<div class=\"meta\">\\n\\t\\t\\t\\t<div class=\"author\">justin821129</div>\\n\\t\\t\\t\\t<div class=\"article-menu\">\\n\\t\\t\\t\\t\\t\\n\\t\\t\\t\\t\\t<div class=\"trigger\">&#x22ef;</div>\\n\\t\\t\\t\\t\\t<div class=\"dropdown\">\\n\\t\\t\\t\\t\\t\\t<div class=\"item\"><a href=\"/bbs/Baseball/search?q=thread%3A%5B%E5%88%86%E4%BA%AB%5D&#43;%E4%BB%8A%E6%97%A5Dylan&#43;Cease&#43;\">搜尋同標題文章</a></div>\\n\\t\\t\\t\\t\\t\\t\\n\\t\\t\\t\\t\\t\\t<div class=\"item\"><a href=\"/bbs/Baseball/search?q=author%3Ajustin821129\">搜尋看板內 justin821129 的文章</a></div>\\n\\t\\t\\t\\t\\t\\t\\n\\t\\t\\t\\t\\t</div>\\n\\t\\t\\t\\t\\t\\n\\t\\t\\t\\t</div>\\n\\t\\t\\t\\t<div class=\"date\"> 4/17</div>\\n\\t\\t\\t\\t<div class=\"mark\"></div>\\n\\t\\t\\t</div>\\n\\t\\t</div>\\n\\n\\t\\t\\n            \\n        \\n        \\n\\t\\t<div class=\"r-ent\">\\n\\t\\t\\t<div class=\"nrec\"><span class=\"hl f2\">2</span></div>\\n\\t\\t\\t<div class=\"title\">\\n\\t\\t\\t\\n\\t\\t\\t\\t<a href=\"/bbs/Baseball/M.1713338381.A.F93.html\">[新聞] 大谷翔平雙安連3戰敲安\\u3000貝茲火燙5安！道</a>\\n\\t\\t\\t\\n\\t\\t\\t</div>\\n\\t\\t\\t<div class=\"meta\">\\n\\t\\t\\t\\t<div class=\"author\">ccf52881</div>\\n\\t\\t\\t\\t<div class=\"article-menu\">\\n\\t\\t\\t\\t\\t\\n\\t\\t\\t\\t\\t<div class=\"trigger\">&#x22ef;</div>\\n\\t\\t\\t\\t\\t<div class=\"dropdown\">\\n\\t\\t\\t\\t\\t\\t<div class=\"item\"><a href=\"/bbs/Baseball/search?q=thread%3A%5B%E6%96%B0%E8%81%9E%5D&#43;%E5%A4%A7%E8%B0%B7%E7%BF%94%E5%B9%B3%E9%9B%99%E5%AE%89%E9%80%A33%E6%88%B0%E6%95%B2%E5%AE%89%E3%80%80%E8%B2%9D%E8%8C%B2%E7%81%AB%E7%87%995%E5%AE%89%EF%BC%81%E9%81%93\">搜尋同標題文章</a></div>\\n\\t\\t\\t\\t\\t\\t\\n\\t\\t\\t\\t\\t\\t<div class=\"item\"><a href=\"/bbs/Baseball/search?q=author%3Accf52881\">搜尋看板內 ccf52881 的文章</a></div>\\n\\t\\t\\t\\t\\t\\t\\n\\t\\t\\t\\t\\t</div>\\n\\t\\t\\t\\t\\t\\n\\t\\t\\t\\t</div>\\n\\t\\t\\t\\t<div class=\"date\"> 4/17</div>\\n\\t\\t\\t\\t<div class=\"mark\"></div>\\n\\t\\t\\t</div>\\n\\t\\t</div>\\n\\n\\t\\t\\n            \\n        \\n        \\n\\t\\t<div class=\"r-ent\">\\n\\t\\t\\t<div class=\"nrec\"><span class=\"hl f2\">3</span></div>\\n\\t\\t\\t<div class=\"title\">\\n\\t\\t\\t\\n\\t\\t\\t\\t<a href=\"/bbs/Baseball/M.1713338844.A.BF0.html\">[分享]台鋼雄鷹FB 7/30.31前進花蓮球場</a>\\n\\t\\t\\t\\n\\t\\t\\t</div>\\n\\t\\t\\t<div class=\"meta\">\\n\\t\\t\\t\\t<div class=\"author\">micheal59</div>\\n\\t\\t\\t\\t<div class=\"article-menu\">\\n\\t\\t\\t\\t\\t\\n\\t\\t\\t\\t\\t<div class=\"trigger\">&#x22ef;</div>\\n\\t\\t\\t\\t\\t<div class=\"dropdown\">\\n\\t\\t\\t\\t\\t\\t<div class=\"item\"><a href=\"/bbs/Baseball/search?q=thread%3A%5B%E5%88%86%E4%BA%AB%5D%E5%8F%B0%E9%8B%BC%E9%9B%84%E9%B7%B9FB&#43;7%2F30.31%E5%89%8D%E9%80%B2%E8%8A%B1%E8%93%AE%E7%90%83%E5%A0%B4\">搜尋同標題文章</a></div>\\n\\t\\t\\t\\t\\t\\t\\n\\t\\t\\t\\t\\t\\t<div class=\"item\"><a href=\"/bbs/Baseball/search?q=author%3Amicheal59\">搜尋看板內 micheal59 的文章</a></div>\\n\\t\\t\\t\\t\\t\\t\\n\\t\\t\\t\\t\\t</div>\\n\\t\\t\\t\\t\\t\\n\\t\\t\\t\\t</div>\\n\\t\\t\\t\\t<div class=\"date\"> 4/17</div>\\n\\t\\t\\t\\t<div class=\"mark\"></div>\\n\\t\\t\\t</div>\\n\\t\\t</div>\\n\\n\\t\\t\\n            \\n        \\n        \\n\\t\\t<div class=\"r-ent\">\\n\\t\\t\\t<div class=\"nrec\"><span class=\"hl f3\">40</span></div>\\n\\t\\t\\t<div class=\"title\">\\n\\t\\t\\t\\n\\t\\t\\t\\t<a href=\"/bbs/Baseball/M.1713340212.A.788.html\">[新聞] 極端守備布陣遭破解  葉總一語道破魔鷹</a>\\n\\t\\t\\t\\n\\t\\t\\t</div>\\n\\t\\t\\t<div class=\"meta\">\\n\\t\\t\\t\\t<div class=\"author\">teramars</div>\\n\\t\\t\\t\\t<div class=\"article-menu\">\\n\\t\\t\\t\\t\\t\\n\\t\\t\\t\\t\\t<div class=\"trigger\">&#x22ef;</div>\\n\\t\\t\\t\\t\\t<div class=\"dropdown\">\\n\\t\\t\\t\\t\\t\\t<div class=\"item\"><a href=\"/bbs/Baseball/search?q=thread%3A%5B%E6%96%B0%E8%81%9E%5D&#43;%E6%A5%B5%E7%AB%AF%E5%AE%88%E5%82%99%E5%B8%83%E9%99%A3%E9%81%AD%E7%A0%B4%E8%A7%A3&#43;&#43;%E8%91%89%E7%B8%BD%E4%B8%80%E8%AA%9E%E9%81%93%E7%A0%B4%E9%AD%94%E9%B7%B9\">搜尋同標題文章</a></div>\\n\\t\\t\\t\\t\\t\\t\\n\\t\\t\\t\\t\\t\\t<div class=\"item\"><a href=\"/bbs/Baseball/search?q=author%3Ateramars\">搜尋看板內 teramars 的文章</a></div>\\n\\t\\t\\t\\t\\t\\t\\n\\t\\t\\t\\t\\t</div>\\n\\t\\t\\t\\t\\t\\n\\t\\t\\t\\t</div>\\n\\t\\t\\t\\t<div class=\"date\"> 4/17</div>\\n\\t\\t\\t\\t<div class=\"mark\"></div>\\n\\t\\t\\t</div>\\n\\t\\t</div>\\n\\n\\t\\t\\n            \\n        \\n        \\n\\t\\t<div class=\"r-ent\">\\n\\t\\t\\t<div class=\"nrec\"><span class=\"hl f3\">11</span></div>\\n\\t\\t\\t<div class=\"title\">\\n\\t\\t\\t\\n\\t\\t\\t\\t<a href=\"/bbs/Baseball/M.1713341563.A.F92.html\">[LIVE] NPB 軟銀 v 火腿\\u3000福島蓮初登板</a>\\n\\t\\t\\t\\n\\t\\t\\t</div>\\n\\t\\t\\t<div class=\"meta\">\\n\\t\\t\\t\\t<div class=\"author\">YuiiAnitima</div>\\n\\t\\t\\t\\t<div class=\"article-menu\">\\n\\t\\t\\t\\t\\t\\n\\t\\t\\t\\t\\t<div class=\"trigger\">&#x22ef;</div>\\n\\t\\t\\t\\t\\t<div class=\"dropdown\">\\n\\t\\t\\t\\t\\t\\t<div class=\"item\"><a href=\"/bbs/Baseball/search?q=thread%3A%5BLIVE%5D&#43;NPB&#43;%E8%BB%9F%E9%8A%80&#43;v&#43;%E7%81%AB%E8%85%BF%E3%80%80%E7%A6%8F%E5%B3%B6%E8%93%AE%E5%88%9D%E7%99%BB%E6%9D%BF\">搜尋同標題文章</a></div>\\n\\t\\t\\t\\t\\t\\t\\n\\t\\t\\t\\t\\t\\t<div class=\"item\"><a href=\"/bbs/Baseball/search?q=author%3AYuiiAnitima\">搜尋看板內 YuiiAnitima 的文章</a></div>\\n\\t\\t\\t\\t\\t\\t\\n\\t\\t\\t\\t\\t</div>\\n\\t\\t\\t\\t\\t\\n\\t\\t\\t\\t</div>\\n\\t\\t\\t\\t<div class=\"date\"> 4/17</div>\\n\\t\\t\\t\\t<div class=\"mark\">M</div>\\n\\t\\t\\t</div>\\n\\t\\t</div>\\n\\n\\t\\t\\n            \\n        \\n        \\n\\t\\t<div class=\"r-ent\">\\n\\t\\t\\t<div class=\"nrec\"><span class=\"hl f2\">1</span></div>\\n\\t\\t\\t<div class=\"title\">\\n\\t\\t\\t\\n\\t\\t\\t\\t<a href=\"/bbs/Baseball/M.1713341734.A.29D.html\">[LIVE] NPB 西武 v 羅德\\u3000松本航－西野勇士</a>\\n\\t\\t\\t\\n\\t\\t\\t</div>\\n\\t\\t\\t<div class=\"meta\">\\n\\t\\t\\t\\t<div class=\"author\">YuiiAnitima</div>\\n\\t\\t\\t\\t<div class=\"article-menu\">\\n\\t\\t\\t\\t\\t\\n\\t\\t\\t\\t\\t<div class=\"trigger\">&#x22ef;</div>\\n\\t\\t\\t\\t\\t<div class=\"dropdown\">\\n\\t\\t\\t\\t\\t\\t<div class=\"item\"><a href=\"/bbs/Baseball/search?q=thread%3A%5BLIVE%5D&#43;NPB&#43;%E8%A5%BF%E6%AD%A6&#43;v&#43;%E7%BE%85%E5%BE%B7%E3%80%80%E6%9D%BE%E6%9C%AC%E8%88%AA%EF%BC%8D%E8%A5%BF%E9%87%8E%E5%8B%87%E5%A3%AB\">搜尋同標題文章</a></div>\\n\\t\\t\\t\\t\\t\\t\\n\\t\\t\\t\\t\\t\\t<div class=\"item\"><a href=\"/bbs/Baseball/search?q=author%3AYuiiAnitima\">搜尋看板內 YuiiAnitima 的文章</a></div>\\n\\t\\t\\t\\t\\t\\t\\n\\t\\t\\t\\t\\t</div>\\n\\t\\t\\t\\t\\t\\n\\t\\t\\t\\t</div>\\n\\t\\t\\t\\t<div class=\"date\"> 4/17</div>\\n\\t\\t\\t\\t<div class=\"mark\"></div>\\n\\t\\t\\t</div>\\n\\t\\t</div>\\n\\n\\t\\t\\n            \\n        \\n        \\n\\t\\t<div class=\"r-ent\">\\n\\t\\t\\t<div class=\"nrec\"></div>\\n\\t\\t\\t<div class=\"title\">\\n\\t\\t\\t\\n\\t\\t\\t\\t<a href=\"/bbs/Baseball/M.1713342012.A.124.html\">[LIVE] NPB 巨人 v 阪神\\u3000赤星優志－伊藤将司</a>\\n\\t\\t\\t\\n\\t\\t\\t</div>\\n\\t\\t\\t<div class=\"meta\">\\n\\t\\t\\t\\t<div class=\"author\">YuiiAnitima</div>\\n\\t\\t\\t\\t<div class=\"article-menu\">\\n\\t\\t\\t\\t\\t\\n\\t\\t\\t\\t\\t<div class=\"trigger\">&#x22ef;</div>\\n\\t\\t\\t\\t\\t<div class=\"dropdown\">\\n\\t\\t\\t\\t\\t\\t<div class=\"item\"><a href=\"/bbs/Baseball/search?q=thread%3A%5BLIVE%5D&#43;NPB&#43;%E5%B7%A8%E4%BA%BA&#43;v&#43;%E9%98%AA%E7%A5%9E%E3%80%80%E8%B5%A4%E6%98%9F%E5%84%AA%E5%BF%97%EF%BC%8D%E4%BC%8A%E8%97%A4%E5%B0%86%E5%8F%B8\">搜尋同標題文章</a></div>\\n\\t\\t\\t\\t\\t\\t\\n\\t\\t\\t\\t\\t\\t<div class=\"item\"><a href=\"/bbs/Baseball/search?q=author%3AYuiiAnitima\">搜尋看板內 YuiiAnitima 的文章</a></div>\\n\\t\\t\\t\\t\\t\\t\\n\\t\\t\\t\\t\\t</div>\\n\\t\\t\\t\\t\\t\\n\\t\\t\\t\\t</div>\\n\\t\\t\\t\\t<div class=\"date\"> 4/17</div>\\n\\t\\t\\t\\t<div class=\"mark\">M</div>\\n\\t\\t\\t</div>\\n\\t\\t</div>\\n\\n\\t\\t\\n            \\n        \\n        \\n\\t\\t<div class=\"r-ent\">\\n\\t\\t\\t<div class=\"nrec\"></div>\\n\\t\\t\\t<div class=\"title\">\\n\\t\\t\\t\\n\\t\\t\\t\\t<a href=\"/bbs/Baseball/M.1713342181.A.154.html\">[LIVE] NPB 歐力士 v 樂天\\u3000Espinoza－岸孝之</a>\\n\\t\\t\\t\\n\\t\\t\\t</div>\\n\\t\\t\\t<div class=\"meta\">\\n\\t\\t\\t\\t<div class=\"author\">YuiiAnitima</div>\\n\\t\\t\\t\\t<div class=\"article-menu\">\\n\\t\\t\\t\\t\\t\\n\\t\\t\\t\\t\\t<div class=\"trigger\">&#x22ef;</div>\\n\\t\\t\\t\\t\\t<div class=\"dropdown\">\\n\\t\\t\\t\\t\\t\\t<div class=\"item\"><a href=\"/bbs/Baseball/search?q=thread%3A%5BLIVE%5D&#43;NPB&#43;%E6%AD%90%E5%8A%9B%E5%A3%AB&#43;v&#43;%E6%A8%82%E5%A4%A9%E3%80%80Espinoza%EF%BC%8D%E5%B2%B8%E5%AD%9D%E4%B9%8B\">搜尋同標題文章</a></div>\\n\\t\\t\\t\\t\\t\\t\\n\\t\\t\\t\\t\\t\\t<div class=\"item\"><a href=\"/bbs/Baseball/search?q=author%3AYuiiAnitima\">搜尋看板內 YuiiAnitima 的文章</a></div>\\n\\t\\t\\t\\t\\t\\t\\n\\t\\t\\t\\t\\t</div>\\n\\t\\t\\t\\t\\t\\n\\t\\t\\t\\t</div>\\n\\t\\t\\t\\t<div class=\"date\"> 4/17</div>\\n\\t\\t\\t\\t<div class=\"mark\">M</div>\\n\\t\\t\\t</div>\\n\\t\\t</div>\\n\\n\\t\\t\\n            \\n        \\n        \\n\\t\\t<div class=\"r-ent\">\\n\\t\\t\\t<div class=\"nrec\"><span class=\"hl f3\">71</span></div>\\n\\t\\t\\t<div class=\"title\">\\n\\t\\t\\t\\n\\t\\t\\t\\t<a href=\"/bbs/Baseball/M.1713342266.A.396.html\">[討論] 總冠軍賽八連勝有多暴力</a>\\n\\t\\t\\t\\n\\t\\t\\t</div>\\n\\t\\t\\t<div class=\"meta\">\\n\\t\\t\\t\\t<div class=\"author\">HSUGuangHan</div>\\n\\t\\t\\t\\t<div class=\"article-menu\">\\n\\t\\t\\t\\t\\t\\n\\t\\t\\t\\t\\t<div class=\"trigger\">&#x22ef;</div>\\n\\t\\t\\t\\t\\t<div class=\"dropdown\">\\n\\t\\t\\t\\t\\t\\t<div class=\"item\"><a href=\"/bbs/Baseball/search?q=thread%3A%5B%E8%A8%8E%E8%AB%96%5D&#43;%E7%B8%BD%E5%86%A0%E8%BB%8D%E8%B3%BD%E5%85%AB%E9%80%A3%E5%8B%9D%E6%9C%89%E5%A4%9A%E6%9A%B4%E5%8A%9B\">搜尋同標題文章</a></div>\\n\\t\\t\\t\\t\\t\\t\\n\\t\\t\\t\\t\\t\\t<div class=\"item\"><a href=\"/bbs/Baseball/search?q=author%3AHSUGuangHan\">搜尋看板內 HSUGuangHan 的文章</a></div>\\n\\t\\t\\t\\t\\t\\t\\n\\t\\t\\t\\t\\t</div>\\n\\t\\t\\t\\t\\t\\n\\t\\t\\t\\t</div>\\n\\t\\t\\t\\t<div class=\"date\"> 4/17</div>\\n\\t\\t\\t\\t<div class=\"mark\"></div>\\n\\t\\t\\t</div>\\n\\t\\t</div>\\n\\n\\t\\t\\n            \\n        \\n        \\n\\t\\t<div class=\"r-ent\">\\n\\t\\t\\t<div class=\"nrec\"><span class=\"hl f2\">1</span></div>\\n\\t\\t\\t<div class=\"title\">\\n\\t\\t\\t\\n\\t\\t\\t\\t<a href=\"/bbs/Baseball/M.1713342342.A.DBC.html\">[LIVE] NPB 養樂多 v 中日\\u3000小澤怜史－涌井秀章</a>\\n\\t\\t\\t\\n\\t\\t\\t</div>\\n\\t\\t\\t<div class=\"meta\">\\n\\t\\t\\t\\t<div class=\"author\">YuiiAnitima</div>\\n\\t\\t\\t\\t<div class=\"article-menu\">\\n\\t\\t\\t\\t\\t\\n\\t\\t\\t\\t\\t<div class=\"trigger\">&#x22ef;</div>\\n\\t\\t\\t\\t\\t<div class=\"dropdown\">\\n\\t\\t\\t\\t\\t\\t<div class=\"item\"><a href=\"/bbs/Baseball/search?q=thread%3A%5BLIVE%5D&#43;NPB&#43;%E9%A4%8A%E6%A8%82%E5%A4%9A&#43;v&#43;%E4%B8%AD%E6%97%A5%E3%80%80%E5%B0%8F%E6%BE%A4%E6%80%9C%E5%8F%B2%EF%BC%8D%E6%B6%8C%E4%BA%95%E7%A7%80%E7%AB%A0\">搜尋同標題文章</a></div>\\n\\t\\t\\t\\t\\t\\t\\n\\t\\t\\t\\t\\t\\t<div class=\"item\"><a href=\"/bbs/Baseball/search?q=author%3AYuiiAnitima\">搜尋看板內 YuiiAnitima 的文章</a></div>\\n\\t\\t\\t\\t\\t\\t\\n\\t\\t\\t\\t\\t</div>\\n\\t\\t\\t\\t\\t\\n\\t\\t\\t\\t</div>\\n\\t\\t\\t\\t<div class=\"date\"> 4/17</div>\\n\\t\\t\\t\\t<div class=\"mark\"></div>\\n\\t\\t\\t</div>\\n\\t\\t</div>\\n\\n\\t\\t\\n            \\n        \\n        \\n\\t\\t<div class=\"r-ent\">\\n\\t\\t\\t<div class=\"nrec\"></div>\\n\\t\\t\\t<div class=\"title\">\\n\\t\\t\\t\\n\\t\\t\\t\\t<a href=\"/bbs/Baseball/M.1713342685.A.0E4.html\">[LIVE] NPB DeNA v 廣島\\u3000濵口遥大－アドゥワ誠</a>\\n\\t\\t\\t\\n\\t\\t\\t</div>\\n\\t\\t\\t<div class=\"meta\">\\n\\t\\t\\t\\t<div class=\"author\">YuiiAnitima</div>\\n\\t\\t\\t\\t<div class=\"article-menu\">\\n\\t\\t\\t\\t\\t\\n\\t\\t\\t\\t\\t<div class=\"trigger\">&#x22ef;</div>\\n\\t\\t\\t\\t\\t<div class=\"dropdown\">\\n\\t\\t\\t\\t\\t\\t<div class=\"item\"><a href=\"/bbs/Baseball/search?q=thread%3A%5BLIVE%5D&#43;NPB&#43;DeNA&#43;v&#43;%E5%BB%A3%E5%B3%B6%E3%80%80%E6%BF%B5%E5%8F%A3%E9%81%A5%E5%A4%A7%EF%BC%8D%E3%82%A2%E3%83%89%E3%82%A5%E3%83%AF%E8%AA%A0\">搜尋同標題文章</a></div>\\n\\t\\t\\t\\t\\t\\t\\n\\t\\t\\t\\t\\t\\t<div class=\"item\"><a href=\"/bbs/Baseball/search?q=author%3AYuiiAnitima\">搜尋看板內 YuiiAnitima 的文章</a></div>\\n\\t\\t\\t\\t\\t\\t\\n\\t\\t\\t\\t\\t</div>\\n\\t\\t\\t\\t\\t\\n\\t\\t\\t\\t</div>\\n\\t\\t\\t\\t<div class=\"date\"> 4/17</div>\\n\\t\\t\\t\\t<div class=\"mark\"></div>\\n\\t\\t\\t</div>\\n\\t\\t</div>\\n\\n\\t\\t\\n        \\n\\t</div>\\n\\n    \\n</div>\\n\\n\\t\\t\\n\\n\\n\\n<script async src=\"https://www.googletagmanager.com/gtag/js?id=G-DZ6Y3BY9GW\"></script>\\n<script>\\n      window.dataLayer = window.dataLayer || [];\\n      function gtag(){dataLayer.push(arguments);}\\n      gtag(\\'js\\', new Date());\\n\\n      gtag(\\'config\\', \\'G-DZ6Y3BY9GW\\');\\n</script>\\n<script>\\n  (function(i,s,o,g,r,a,m){i[\\'GoogleAnalyticsObject\\']=r;i[r]=i[r]||function(){\\n  (i[r].q=i[r].q||[]).push(arguments)},i[r].l=1*new Date();a=s.createElement(o),\\n  m=s.getElementsByTagName(o)[0];a.async=1;a.src=g;m.parentNode.insertBefore(a,m)\\n  })(window,document,\\'script\\',\\'https://www.google-analytics.com/analytics.js\\',\\'ga\\');\\n\\n  ga(\\'create\\', \\'UA-32365737-1\\', {\\n    cookieDomain: \\'ptt.cc\\',\\n    legacyCookieDomain: \\'ptt.cc\\'\\n  });\\n  ga(\\'send\\', \\'pageview\\');\\n</script>\\n\\n\\n\\t\\t\\n<script src=\"//ajax.googleapis.com/ajax/libs/jquery/2.1.1/jquery.min.js\"></script>\\n<script src=\"//images.ptt.cc/bbs/v2.27/bbs.js\"></script>\\n\\n    </body>\\n</html>\\n'"
      ]
     },
     "execution_count": 5,
     "metadata": {},
     "output_type": "execute_result"
    }
   ],
   "source": [
    "response.text"
   ]
  },
  {
   "cell_type": "code",
   "execution_count": 13,
   "id": "302ebb95",
   "metadata": {},
   "outputs": [],
   "source": [
    "if response.status_code==200:\n",
    "    soup=BeautifulSoup(response.text,\"html.parser\")"
   ]
  },
  {
   "cell_type": "code",
   "execution_count": 14,
   "id": "9f43a50c",
   "metadata": {},
   "outputs": [
    {
     "name": "stdout",
     "output_type": "stream",
     "text": [
      "[公告] Baseball 板 開始舉辦樂透!      \n",
      "[分享] 「一同去蕉遊 x GOGO洲際」 下層進場贈品      \n",
      "[情報] 美日韓職 2024迄今整體均速      \n",
      "Re: [問題] 要如何分辨出投手在投什麼球？      \n",
      "[新聞] 中信兄弟》恩力在S-1同化性物質呈陽性反      \n",
      "[新聞] 準經長郭智輝參與職棒跳票？崇越回應了      \n",
      "[新聞] SPC-MLB》大谷太急了！得點圈打擊率降至      \n",
      "[情報] NPB 4/17 球員異動      \n",
      "[新聞] MLB》遭菊池雄星痛宰！ 洋基「法官」開季      \n",
      "[分享] 今日Dylan Cease      \n",
      "[新聞] 大谷翔平雙安連3戰敲安　貝茲火燙5安！道      \n",
      "[分享]台鋼雄鷹FB 7/30.31前進花蓮球場      \n",
      "[新聞] 極端守備布陣遭破解  葉總一語道破魔鷹      \n",
      "[LIVE] NPB 軟銀 v 火腿　福島蓮初登板      \n",
      "[LIVE] NPB 西武 v 羅德　松本航－西野勇士      \n",
      "[LIVE] NPB 巨人 v 阪神　赤星優志－伊藤将司      \n",
      "[LIVE] NPB 歐力士 v 樂天　Espinoza－岸孝之      \n",
      "[討論] 總冠軍賽八連勝有多暴力      \n",
      "[LIVE] NPB 養樂多 v 中日　小澤怜史－涌井秀章      \n",
      "[LIVE] NPB DeNA v 廣島　濵口遥大－アドゥワ誠      \n"
     ]
    }
   ],
   "source": [
    "for x in soup.find_all('div', class_='title'):\n",
    "    print(x.text.strip(),\"     \")"
   ]
  },
  {
   "cell_type": "code",
   "execution_count": 15,
   "id": "0cbd89c4",
   "metadata": {},
   "outputs": [],
   "source": [
    "    # Initialize empty arrays to store the data\n",
    "    title = []\n",
    "    author =[]\n",
    "    date = []\n",
    "data={\n",
    "    \"標題\": title,\n",
    "    \"作者\": author,\n",
    "    \"日期\": date,\n",
    "}"
   ]
  },
  {
   "cell_type": "code",
   "execution_count": 16,
   "id": "bca93624",
   "metadata": {},
   "outputs": [
    {
     "name": "stdout",
     "output_type": "stream",
     "text": [
      "['[分享] 「一同去蕉遊 x GOGO洲際」 下層進場贈品', '[情報] 美日韓職 2024迄今整體均速', 'Re: [問題] 要如何分辨出投手在投什麼球？', '[新聞] 中信兄弟》恩力在S-1同化性物質呈陽性反', '[新聞] 準經長郭智輝參與職棒跳票？崇越回應了', '[新聞] SPC-MLB》大谷太急了！得點圈打擊率降至', '[情報] NPB 4/17 球員異動', '[新聞] MLB》遭菊池雄星痛宰！ 洋基「法官」開季', '[分享] 今日Dylan Cease', '[新聞] 大谷翔平雙安連3戰敲安\\u3000貝茲火燙5安！道', '[分享]台鋼雄鷹FB 7/30.31前進花蓮球場', '[新聞] 極端守備布陣遭破解  葉總一語道破魔鷹', '[LIVE] NPB 軟銀 v 火腿\\u3000福島蓮初登板', '[LIVE] NPB 西武 v 羅德\\u3000松本航－西野勇士', '[LIVE] NPB 巨人 v 阪神\\u3000赤星優志－伊藤将司', '[LIVE] NPB 歐力士 v 樂天\\u3000Espinoza－岸孝之', '[討論] 總冠軍賽八連勝有多暴力', '[LIVE] NPB 養樂多 v 中日\\u3000小澤怜史－涌井秀章', '[LIVE] NPB DeNA v 廣島\\u3000濵口遥大－アドゥワ誠']\n"
     ]
    }
   ],
   "source": [
    "# 找到所有的<tr>標籤，這些標籤包含了球隊的資料\n",
    "i=0\n",
    "for x in soup.find_all('div', class_='title'):\n",
    "    if i!=0:\n",
    "        title.append(x.text.strip())\n",
    "    i+=1\n",
    "print(title)"
   ]
  },
  {
   "cell_type": "code",
   "execution_count": 17,
   "id": "7fd694e0",
   "metadata": {},
   "outputs": [
    {
     "name": "stdout",
     "output_type": "stream",
     "text": [
      "['ruka660101', 'zxc906383', 'backpacker18', 'jackwelch', 'william8403', 'Lisanity', 'YuiiAnitima', 'ccf52881', 'justin821129', 'ccf52881', 'micheal59', 'teramars', 'YuiiAnitima', 'YuiiAnitima', 'YuiiAnitima', 'YuiiAnitima', 'HSUGuangHan', 'YuiiAnitima', 'YuiiAnitima']\n"
     ]
    }
   ],
   "source": [
    "i=0\n",
    "for x in soup.find_all('div', class_='author'):\n",
    "    if i!=0:\n",
    "        author.append(x.text.strip())\n",
    "    i+=1\n",
    "print(author)"
   ]
  },
  {
   "cell_type": "code",
   "execution_count": 18,
   "id": "cefd35a3",
   "metadata": {},
   "outputs": [
    {
     "name": "stdout",
     "output_type": "stream",
     "text": [
      "['4/17', '4/17', '4/17', '4/17', '4/17', '4/17', '4/17', '4/17', '4/17', '4/17', '4/17', '4/17', '4/17', '4/17', '4/17', '4/17', '4/17', '4/17', '4/17']\n"
     ]
    }
   ],
   "source": [
    "i=0\n",
    "for x in soup.find_all('div', class_='date'):\n",
    "    if i!=0:\n",
    "        date.append(x.text.strip())\n",
    "    i+=1\n",
    "print(date)"
   ]
  },
  {
   "cell_type": "code",
   "execution_count": 24,
   "id": "09c37b86",
   "metadata": {},
   "outputs": [
    {
     "name": "stdout",
     "output_type": "stream",
     "text": [
      "                                  標題            作者    日期\n",
      "0       [分享] 「一同去蕉遊 x GOGO洲際」 下層進場贈品    ruka660101  4/17\n",
      "1               [情報] 美日韓職 2024迄今整體均速     zxc906383  4/17\n",
      "2            Re: [問題] 要如何分辨出投手在投什麼球？  backpacker18  4/17\n",
      "3          [新聞] 中信兄弟》恩力在S-1同化性物質呈陽性反     jackwelch  4/17\n",
      "4            [新聞] 準經長郭智輝參與職棒跳票？崇越回應了   william8403  4/17\n",
      "5        [新聞] SPC-MLB》大谷太急了！得點圈打擊率降至      Lisanity  4/17\n",
      "6                 [情報] NPB 4/17 球員異動   YuiiAnitima  4/17\n",
      "7         [新聞] MLB》遭菊池雄星痛宰！ 洋基「法官」開季      ccf52881  4/17\n",
      "8                 [分享] 今日Dylan Cease  justin821129  4/17\n",
      "9          [新聞] 大谷翔平雙安連3戰敲安　貝茲火燙5安！道      ccf52881  4/17\n",
      "10          [分享]台鋼雄鷹FB 7/30.31前進花蓮球場     micheal59  4/17\n",
      "11          [新聞] 極端守備布陣遭破解  葉總一語道破魔鷹      teramars  4/17\n",
      "12         [LIVE] NPB 軟銀 v 火腿　福島蓮初登板   YuiiAnitima  4/17\n",
      "13       [LIVE] NPB 西武 v 羅德　松本航－西野勇士   YuiiAnitima  4/17\n",
      "14      [LIVE] NPB 巨人 v 阪神　赤星優志－伊藤将司   YuiiAnitima  4/17\n",
      "15  [LIVE] NPB 歐力士 v 樂天　Espinoza－岸孝之   YuiiAnitima  4/17\n",
      "16                  [討論] 總冠軍賽八連勝有多暴力   HSUGuangHan  4/17\n",
      "17     [LIVE] NPB 養樂多 v 中日　小澤怜史－涌井秀章   YuiiAnitima  4/17\n",
      "18   [LIVE] NPB DeNA v 廣島　濵口遥大－アドゥワ誠   YuiiAnitima  4/17\n"
     ]
    }
   ],
   "source": [
    "df = pd.DataFrame(data)\n",
    "\n",
    "df.columns = [\"標題\",\"作者\",\"日期\"]\n",
    "print(df)\n",
    "df.to_csv('data.csv', index=False, encoding='utf-8-sig')\n",
    "# 讀取CSV文件\n",
    "df = pd.read_csv('data.csv')\n",
    "\n",
    "# 將數據框轉換為JSON\n",
    "json_data = df.to_json('output.json', orient='records')"
   ]
  },
  {
   "cell_type": "code",
   "execution_count": null,
   "id": "fbc450d2",
   "metadata": {},
   "outputs": [],
   "source": []
  }
 ],
 "metadata": {
  "kernelspec": {
   "display_name": "Python 3 (ipykernel)",
   "language": "python",
   "name": "python3"
  },
  "language_info": {
   "codemirror_mode": {
    "name": "ipython",
    "version": 3
   },
   "file_extension": ".py",
   "mimetype": "text/x-python",
   "name": "python",
   "nbconvert_exporter": "python",
   "pygments_lexer": "ipython3",
   "version": "3.11.5"
  }
 },
 "nbformat": 4,
 "nbformat_minor": 5
}
